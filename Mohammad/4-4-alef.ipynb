{
 "cells": [
  {
   "cell_type": "code",
   "execution_count": 1,
   "metadata": {},
   "outputs": [
    {
     "data": {
      "text/plain": [
       "'cuda'"
      ]
     },
     "execution_count": 1,
     "metadata": {},
     "output_type": "execute_result"
    }
   ],
   "source": [
    "import torch\n",
    "from torch import nn\n",
    "\n",
    "device = \"cuda\" if torch.cuda.is_available() else \"cpu\"\n",
    "torch.manual_seed(46)\n",
    "torch.set_default_device(device)\n",
    "\n",
    "device"
   ]
  },
  {
   "cell_type": "code",
   "execution_count": 2,
   "metadata": {},
   "outputs": [],
   "source": [
    "from torchvision import datasets\n",
    "from torchvision.transforms import ToTensor\n",
    "\n",
    "train_data = datasets.MNIST(\n",
    "    root=\"data\",\n",
    "    train=True,\n",
    "    transform=ToTensor(),\n",
    "    download=True,\n",
    ")\n",
    "test_data = datasets.MNIST(root=\"data\", train=False, transform=ToTensor())\n",
    "X_train_not_normalized = train_data.data.float().to(device=device)\n",
    "y_train = train_data.targets.to(device=device)\n",
    "X_test_not_normalized = test_data.data.float().to(device=device)\n",
    "y_test = test_data.targets.to(device=device)\n",
    "\n",
    "X_train = (X_train_not_normalized - X_train_not_normalized.min()) / (\n",
    "    X_train_not_normalized.max() - X_train_not_normalized.min()\n",
    ")\n",
    "X_test = (X_test_not_normalized - X_test_not_normalized.min()) / (\n",
    "    X_test_not_normalized.max() - X_test_not_normalized.min()\n",
    ")"
   ]
  },
  {
   "cell_type": "code",
   "execution_count": 3,
   "metadata": {},
   "outputs": [
    {
     "data": {
      "text/plain": [
       "tensor([[-0.7806, -1.2134, -0.9218,  ...,  2.6811, -0.0129,  1.6270],\n",
       "        [ 0.3770,  0.1848,  1.6529,  ..., -2.3801,  0.7674, -2.2873],\n",
       "        [-1.4866,  2.3106,  0.3854,  ..., -0.5120,  0.4096, -0.5343],\n",
       "        ...,\n",
       "        [-2.4371, -0.9960, -0.8187,  ...,  1.6459,  0.5324,  2.0795],\n",
       "        [-0.3726,  0.1539, -0.0482,  ..., -0.3100,  0.6986, -0.3425],\n",
       "        [ 1.5989, -2.3355,  1.6082,  ..., -2.1871, -0.3209, -1.1665]],\n",
       "       device='cuda:0', grad_fn=<AddmmBackward0>)"
      ]
     },
     "execution_count": 3,
     "metadata": {},
     "output_type": "execute_result"
    }
   ],
   "source": [
    "class Teacher(nn.Module):\n",
    "    def __init__(self) -> None:\n",
    "        super().__init__()\n",
    "\n",
    "        self.activation_function = nn.ReLU()\n",
    "\n",
    "        self.flatten = nn.Flatten()\n",
    "\n",
    "        self.layer_one = nn.Linear(\n",
    "            in_features=784, out_features=1024, dtype=torch.float\n",
    "        )\n",
    "        self.layer_two = nn.Linear(\n",
    "            in_features=1024, out_features=512, dtype=torch.float\n",
    "        )\n",
    "        self.layer_three = nn.Linear(\n",
    "            in_features=512, out_features=10, dtype=torch.float\n",
    "        )\n",
    "\n",
    "    def forward(self, x: torch.Tensor):\n",
    "        out = self.flatten(x)\n",
    "        out = self.activation_function(self.layer_one(out))\n",
    "        out = self.activation_function(self.layer_two(out))\n",
    "        out = self.layer_three(out)\n",
    "        return out\n",
    "\n",
    "\n",
    "class Student(nn.Module):\n",
    "    def __init__(self) -> None:\n",
    "        super().__init__()\n",
    "\n",
    "        self.activation_function = nn.ReLU()\n",
    "\n",
    "        self.flatten = nn.Flatten()\n",
    "\n",
    "        self.layer_one = nn.Linear(in_features=784, out_features=128, dtype=torch.float)\n",
    "        self.layer_two = nn.Linear(in_features=128, out_features=64, dtype=torch.float)\n",
    "        self.layer_three = nn.Linear(in_features=64, out_features=10, dtype=torch.float)\n",
    "\n",
    "    def forward(self, x: torch.Tensor):\n",
    "        out = self.flatten(x)\n",
    "        out = self.activation_function(self.layer_one(out))\n",
    "        out = self.activation_function(self.layer_two(out))\n",
    "        out = self.layer_three(out)\n",
    "        return out\n",
    "\n",
    "\n",
    "teacher_model = Teacher()\n",
    "student_model = Student()\n",
    "\n",
    "teacher_model.load_state_dict(torch.load(\"./TeacherModel.pth\"))\n",
    "\n",
    "teacher_y_train_logits = teacher_model(X_train)\n",
    "teacher_y_train_logits_softmaxed = torch.softmax(teacher_y_train_logits, dim=1)\n",
    "\n",
    "_, teacher_y_train = teacher_y_train_logits.max(dim=1)\n",
    "teacher_y_test_logits = teacher_model(X_test)\n",
    "teacher_y_test_logits_softmaxed = torch.softmax(teacher_y_test_logits, dim=1)\n",
    "_, teacher_y_test = teacher_y_test_logits_softmaxed.max(dim=1)\n",
    "teacher_y_train = teacher_y_train.to(dtype=torch.float)\n",
    "teacher_y_test = teacher_y_test.to(dtype=torch.float)\n",
    "teacher_model(X_test)"
   ]
  },
  {
   "cell_type": "code",
   "execution_count": 4,
   "metadata": {},
   "outputs": [
    {
     "name": "stdout",
     "output_type": "stream",
     "text": [
      "Epoch: 0 | Loss: 0.23613, Accuracy: 67.99%, Test Accuracy: 68.50%  | Test loss: 0.24086\n",
      "Epoch: 1 | Loss: 0.00986, Accuracy: 91.75%, Test Accuracy: 92.20%  | Test loss: 0.01001\n",
      "Epoch: 2 | Loss: 0.00467, Accuracy: 94.35%, Test Accuracy: 94.83%  | Test loss: 0.00475\n",
      "Epoch: 3 | Loss: 0.00347, Accuracy: 95.24%, Test Accuracy: 95.59%  | Test loss: 0.00354\n",
      "Epoch: 4 | Loss: 0.00290, Accuracy: 95.83%, Test Accuracy: 96.10%  | Test loss: 0.00297\n",
      "Epoch: 5 | Loss: 0.00254, Accuracy: 96.26%, Test Accuracy: 96.52%  | Test loss: 0.00261\n",
      "Epoch: 6 | Loss: 0.00229, Accuracy: 96.60%, Test Accuracy: 96.80%  | Test loss: 0.00235\n",
      "Epoch: 7 | Loss: 0.00211, Accuracy: 96.84%, Test Accuracy: 97.00%  | Test loss: 0.00217\n",
      "Epoch: 8 | Loss: 0.00196, Accuracy: 97.01%, Test Accuracy: 97.20%  | Test loss: 0.00202\n",
      "Epoch: 9 | Loss: 0.00185, Accuracy: 97.17%, Test Accuracy: 97.35%  | Test loss: 0.00190\n"
     ]
    }
   ],
   "source": [
    "import math\n",
    "import matplotlib.pyplot as plt\n",
    "import time\n",
    "\n",
    "EPOCHS = 10\n",
    "ALPHA = 0.01\n",
    "BATCH_SIZE = 32\n",
    "loss_function = nn.MSELoss()\n",
    "optimizer = torch.optim.SGD(student_model.parameters(), lr=ALPHA)\n",
    "\n",
    "\n",
    "def printLogs(epoch, epochs, loss, accuracy, test_accuracy, test_loss):\n",
    "    print(\n",
    "        f\"Epoch: {epoch} | Loss: {loss:.5f}, Accuracy: {accuracy:.2f}%, Test Accuracy: {test_accuracy:.2f}%  | Test loss: {test_loss:.5f}\"\n",
    "    )\n",
    "\n",
    "\n",
    "general_loss = []  # to be shown after epochs\n",
    "general_test_loss = []  # to be shown after epochs\n",
    "general_accuracy = []  # to be shown after epochs\n",
    "general_test_accuracy = []  # to be shown after epochs\n",
    "for epoch in range(EPOCHS):\n",
    "    accuracies = []\n",
    "    test_accuracies = []\n",
    "    test_losses = []\n",
    "    losses = []\n",
    "    for batch_index in range(math.ceil(X_train.shape[0] / BATCH_SIZE)):\n",
    "        student_model.train()\n",
    "        # start_time = time.time()\n",
    "\n",
    "        X_train_batch = X_train[\n",
    "            batch_index * BATCH_SIZE : batch_index * BATCH_SIZE + BATCH_SIZE\n",
    "        ]\n",
    "        teacher_y_train_batch = teacher_y_train[\n",
    "            batch_index * BATCH_SIZE : batch_index * BATCH_SIZE + BATCH_SIZE\n",
    "        ]\n",
    "\n",
    "        student_y_logits = student_model(X_train_batch)\n",
    "        student_y_logits_softmaxed = torch.softmax(student_y_logits, dim=1)\n",
    "        _, max_indices = student_y_logits_softmaxed.max(dim=1)\n",
    "\n",
    "        accuracy = (\n",
    "            torch.eq(teacher_y_train_batch, max_indices).count_nonzero()\n",
    "            / teacher_y_train_batch.__len__()\n",
    "            * 100\n",
    "        )\n",
    "\n",
    "        accuracies.append(accuracy)\n",
    "\n",
    "        loss = loss_function(\n",
    "            student_y_logits,\n",
    "            teacher_y_train_logits[\n",
    "                batch_index * BATCH_SIZE : batch_index * BATCH_SIZE + BATCH_SIZE\n",
    "            ],\n",
    "        )\n",
    "\n",
    "        losses.append(loss.cpu())\n",
    "\n",
    "        optimizer.zero_grad()\n",
    "\n",
    "        loss.backward(retain_graph=True)\n",
    "\n",
    "        optimizer.step()\n",
    "        # end_time = time.time()\n",
    "        # print(f\"Train duration :{end_time-start_time}\")\n",
    "\n",
    "        student_model.eval()\n",
    "\n",
    "        with torch.inference_mode():\n",
    "            # start_time = time.time()\n",
    "            student_y_test_logits = student_model(X_test)\n",
    "            student_test_logits_softmaxed = torch.softmax(student_model(X_test), dim=1)\n",
    "            _, max_indices = student_test_logits_softmaxed.max(dim=1)\n",
    "\n",
    "            test_loss = loss_function(\n",
    "                student_y_test_logits,\n",
    "                teacher_y_test_logits,\n",
    "            )\n",
    "            test_accuracy = (\n",
    "                torch.eq(teacher_y_test, max_indices).count_nonzero()\n",
    "                / teacher_y_test.__len__()\n",
    "                * 100\n",
    "            )\n",
    "\n",
    "            test_accuracies.append(test_accuracy)\n",
    "            test_losses.append(test_loss.cpu())\n",
    "            # end_time = time.time()\n",
    "            # print(f\"Test duration :{end_time-start_time}\")\n",
    "\n",
    "    average_test_loss = torch.tensor(test_losses).mean()\n",
    "    average_loss = torch.tensor(losses).mean()\n",
    "    average_test_accuracy = torch.tensor(test_accuracies).mean()\n",
    "    average_accuracy = torch.tensor(accuracies).mean()\n",
    "\n",
    "    test_losses = []  # reset for the next epoch\n",
    "    losses = []\n",
    "    test_accuracies = []\n",
    "    accuracies = []\n",
    "\n",
    "    general_loss.append(average_loss.item())\n",
    "    general_test_loss.append(average_test_loss.item())\n",
    "    general_test_accuracy.append(average_test_accuracy.item())\n",
    "    general_accuracy.append(average_accuracy.item())\n",
    "    printLogs(\n",
    "        epoch,\n",
    "        EPOCHS,\n",
    "        average_loss,\n",
    "        average_accuracy,\n",
    "        average_test_accuracy,\n",
    "        average_test_loss,\n",
    "    )"
   ]
  },
  {
   "cell_type": "code",
   "execution_count": 5,
   "metadata": {},
   "outputs": [
    {
     "name": "stdout",
     "output_type": "stream",
     "text": [
      "\n",
      "Misclassification in 10000 pictures: 7835\n"
     ]
    },
    {
     "data": {
      "image/png": "[encoded data removed]",
      "text/plain": [
       "<Figure size 640x480 with 1 Axes>"
      ]
     },
     "metadata": {},
     "output_type": "display_data"
    },
    {
     "data": {
      "image/png": "[encoded data removed]",
      "text/plain": [
       "<Figure size 640x480 with 1 Axes>"
      ]
     },
     "metadata": {},
     "output_type": "display_data"
    }
   ],
   "source": [
    "print()\n",
    "student_model(X_test)\n",
    "_, max_indices = torch.softmax(student_model(X_test), dim=1).max(dim=1)\n",
    "print(\n",
    "    f\"Misclassification in {y_test.__len__()} pictures: {(max_indices==y_test).count_nonzero()}\"\n",
    ")\n",
    "\n",
    "plt.plot(general_loss, label=\"Loss\")\n",
    "plt.plot(general_test_loss, label=\"Test Loss\")\n",
    "plt.legend()\n",
    "plt.show()\n",
    "plt.plot(general_accuracy, label=\"Accuracy\")\n",
    "plt.plot(general_test_accuracy, label=\"Test Accuracy\")\n",
    "plt.legend()\n",
    "plt.show()"
   ]
  }
 ],
 "metadata": {
  "kernelspec": {
   "display_name": "Python 3",
   "language": "python",
   "name": "python3"
  },
  "language_info": {
   "codemirror_mode": {
    "name": "ipython",
    "version": 3
   },
   "file_extension": ".py",
   "mimetype": "text/x-python",
   "name": "python",
   "nbconvert_exporter": "python",
   "pygments_lexer": "ipython3",
   "version": "3.10.12"
  }
 },
 "nbformat": 4,
 "nbformat_minor": 2
}
