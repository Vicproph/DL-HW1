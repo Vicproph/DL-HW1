{
 "cells": [
  {
   "cell_type": "code",
   "execution_count": 1,
   "metadata": {},
   "outputs": [
    {
     "data": {
      "text/plain": [
       "'cuda'"
      ]
     },
     "execution_count": 1,
     "metadata": {},
     "output_type": "execute_result"
    }
   ],
   "source": [
    "import torch\n",
    "from torch import nn\n",
    "\n",
    "device = \"cuda\" if torch.cuda.is_available() else \"cpu\"\n",
    "torch.manual_seed(46)\n",
    "torch.set_default_device(device)\n",
    "\n",
    "device"
   ]
  },
  {
   "cell_type": "code",
   "execution_count": 2,
   "metadata": {},
   "outputs": [],
   "source": [
    "from torchvision import datasets\n",
    "from torchvision.transforms import ToTensor\n",
    "\n",
    "train_data = datasets.MNIST(\n",
    "    root=\"data\",\n",
    "    train=True,\n",
    "    transform=ToTensor(),\n",
    "    download=True,\n",
    ")\n",
    "test_data = datasets.MNIST(root=\"data\", train=False, transform=ToTensor())\n",
    "X_train_not_normalized = train_data.data.float().to(device=device)\n",
    "y_train = train_data.targets.to(device=device)\n",
    "X_test_not_normalized = test_data.data.float().to(device=device)\n",
    "y_test = test_data.targets.to(device=device)\n",
    "\n",
    "X_train = (X_train_not_normalized - X_train_not_normalized.min()) / (\n",
    "    X_train_not_normalized.max() - X_train_not_normalized.min()\n",
    ")\n",
    "X_test = (X_test_not_normalized - X_test_not_normalized.min()) / (\n",
    "    X_test_not_normalized.max() - X_test_not_normalized.min()\n",
    ")"
   ]
  },
  {
   "cell_type": "code",
   "execution_count": 3,
   "metadata": {},
   "outputs": [],
   "source": [
    "class Teacher(nn.Module):\n",
    "    def __init__(self) -> None:\n",
    "        super().__init__()\n",
    "\n",
    "        self.activation_function = nn.ReLU()\n",
    "\n",
    "        self.flatten = nn.Flatten()\n",
    "\n",
    "        self.layer_one = nn.Linear(\n",
    "            in_features=784, out_features=1024, dtype=torch.float\n",
    "        )\n",
    "        self.layer_two = nn.Linear(\n",
    "            in_features=1024, out_features=512, dtype=torch.float\n",
    "        )\n",
    "        self.layer_three = nn.Linear(\n",
    "            in_features=512, out_features=10, dtype=torch.float\n",
    "        )\n",
    "\n",
    "    def forward(self, x: torch.Tensor):\n",
    "        out = self.flatten(x)\n",
    "        out = self.activation_function(self.layer_one(out))\n",
    "        out = self.activation_function(self.layer_two(out))\n",
    "        out = self.layer_three(out)\n",
    "        return out\n",
    "\n",
    "\n",
    "class Student(nn.Module):\n",
    "    def __init__(self) -> None:\n",
    "        super().__init__()\n",
    "\n",
    "        self.activation_function = nn.ReLU()\n",
    "\n",
    "        self.flatten = nn.Flatten()\n",
    "\n",
    "        self.layer_one = nn.Linear(in_features=784, out_features=128, dtype=torch.float)\n",
    "        self.layer_two = nn.Linear(in_features=128, out_features=64, dtype=torch.float)\n",
    "        self.layer_three = nn.Linear(in_features=64, out_features=10, dtype=torch.float)\n",
    "\n",
    "    def forward(self, x: torch.Tensor):\n",
    "        out = self.flatten(x)\n",
    "        out = self.activation_function(self.layer_one(out))\n",
    "        out = self.activation_function(self.layer_two(out))\n",
    "        out = self.layer_three(out)\n",
    "        return out\n",
    "\n",
    "\n",
    "teacher_model = Teacher()\n",
    "student_model = Student()\n",
    "\n",
    "teacher_model.load_state_dict(torch.load(\"./TeacherModel.pth\"))\n",
    "\n",
    "teacher_y_train_logits = teacher_model(X_train).float().detach()\n",
    "teacher_y_train = torch.argmax(teacher_y_train_logits, dim=1).float().detach()\n",
    "teacher_y_test_logits = teacher_model(X_test).float().detach()\n",
    "teacher_y_test = torch.argmax(teacher_y_test_logits, dim=1).float().detach()"
   ]
  },
  {
   "cell_type": "code",
   "execution_count": 4,
   "metadata": {},
   "outputs": [
    {
     "name": "stdout",
     "output_type": "stream",
     "text": [
      "19:23:3: Epoch: 0 | Loss: 8344.87056, Accuracy: 82.90%, Test Accuracy: 83.33%  | Test loss: 8485.02441\n",
      "19:23:8: Epoch: 1 | Loss: 942.91609, Accuracy: 96.69%, Test Accuracy: 97.20%  | Test loss: 934.01135\n",
      "19:23:12: Epoch: 2 | Loss: 524.75998, Accuracy: 97.76%, Test Accuracy: 98.16%  | Test loss: 518.92279\n",
      "19:23:16: Epoch: 3 | Loss: 398.75909, Accuracy: 98.21%, Test Accuracy: 98.49%  | Test loss: 396.87234\n",
      "19:23:20: Epoch: 4 | Loss: 332.47949, Accuracy: 98.41%, Test Accuracy: 98.65%  | Test loss: 334.27213\n",
      "19:23:25: Epoch: 5 | Loss: 293.43646, Accuracy: 98.54%, Test Accuracy: 98.74%  | Test loss: 297.59326\n",
      "19:23:29: Epoch: 6 | Loss: 265.49050, Accuracy: 98.65%, Test Accuracy: 98.81%  | Test loss: 271.77914\n",
      "19:23:33: Epoch: 7 | Loss: 242.45125, Accuracy: 98.70%, Test Accuracy: 98.88%  | Test loss: 250.77112\n",
      "19:23:38: Epoch: 8 | Loss: 226.42047, Accuracy: 98.78%, Test Accuracy: 98.93%  | Test loss: 236.21281\n",
      "19:23:42: Epoch: 9 | Loss: 214.73161, Accuracy: 98.85%, Test Accuracy: 98.98%  | Test loss: 225.56212\n"
     ]
    }
   ],
   "source": [
    "import math\n",
    "import matplotlib.pyplot as plt\n",
    "import time\n",
    "\n",
    "EPOCHS = 10\n",
    "ALPHA = 0.01\n",
    "BATCH_SIZE = 32\n",
    "loss_function = nn.MSELoss()\n",
    "optimizer = torch.optim.SGD(student_model.parameters(), lr=ALPHA)\n",
    "\n",
    "\n",
    "def printLogs(epoch, epochs, loss, accuracy, test_accuracy, test_loss):\n",
    "    local_time = time.localtime()\n",
    "    print(\n",
    "        f\"{local_time.tm_hour}:{local_time.tm_min}:{local_time.tm_sec}: Epoch: {epoch} | Loss: {loss:.5f}, Accuracy: {accuracy:.2f}%, Test Accuracy: {test_accuracy:.2f}%  | Test loss: {test_loss:.5f}\"\n",
    "    )\n",
    "\n",
    "\n",
    "general_loss = []  # to be shown after epochs\n",
    "general_test_loss = []  # to be shown after epochs\n",
    "general_accuracy = []  # to be shown after epochs\n",
    "general_test_accuracy = []  # to be shown after epochs\n",
    "\n",
    "batch_iterations = math.ceil(X_train.shape[0] / BATCH_SIZE)\n",
    "\n",
    "for epoch in range(EPOCHS):\n",
    "    accuracies = 0\n",
    "    test_accuracies = 0\n",
    "    test_losses = 0\n",
    "    losses = 0\n",
    "    for batch_index in range(batch_iterations):\n",
    "        student_model.train()\n",
    "        # start_time = time.time()\n",
    "\n",
    "        X_train_batch = X_train[\n",
    "            batch_index * BATCH_SIZE : batch_index * BATCH_SIZE + BATCH_SIZE\n",
    "        ]\n",
    "        teacher_y_train_batch = teacher_y_train[\n",
    "            batch_index * BATCH_SIZE : batch_index * BATCH_SIZE + BATCH_SIZE\n",
    "        ]\n",
    "\n",
    "        student_y_logits = student_model(X_train_batch)\n",
    "\n",
    "        y_pred = torch.argmax(student_y_logits, dim=1)\n",
    "\n",
    "        accuracy = (\n",
    "            torch.eq(teacher_y_train_batch, y_pred).count_nonzero()\n",
    "            / teacher_y_train_batch.__len__()\n",
    "            * 100\n",
    "        )\n",
    "\n",
    "        accuracies += accuracy\n",
    "\n",
    "        loss = loss_function(\n",
    "            student_y_logits,\n",
    "            teacher_y_train_logits[\n",
    "                batch_index * BATCH_SIZE : batch_index * BATCH_SIZE + BATCH_SIZE\n",
    "            ],\n",
    "        )\n",
    "\n",
    "        losses += loss.item()\n",
    "\n",
    "        optimizer.zero_grad()\n",
    "\n",
    "        loss.backward()\n",
    "\n",
    "        optimizer.step()\n",
    "\n",
    "        student_y_logits.detach_()\n",
    "        y_pred.detach_()\n",
    "\n",
    "        student_model.eval()\n",
    "\n",
    "        with torch.inference_mode():\n",
    "            # start_time = time.time()\n",
    "            student_y_test_logits = student_model(X_test)\n",
    "            y_test_pred = torch.argmax(student_y_test_logits, dim=1)\n",
    "\n",
    "            test_loss = loss_function(\n",
    "                student_y_test_logits,\n",
    "                teacher_y_test_logits,\n",
    "            )\n",
    "            test_accuracy = (\n",
    "                torch.eq(teacher_y_test, y_test_pred).count_nonzero()\n",
    "                / teacher_y_test.__len__()\n",
    "                * 100\n",
    "            )\n",
    "\n",
    "            test_accuracies += test_accuracy\n",
    "            test_losses += test_loss\n",
    "            # end_time = time.time()\n",
    "            # print(f\"Test duration :{end_time-start_time}\")\n",
    "\n",
    "    average_accuracy = accuracies / batch_iterations\n",
    "    average_test_accuracy = test_accuracies / batch_iterations\n",
    "\n",
    "    general_loss.append(losses)\n",
    "    general_test_loss.append(test_losses)\n",
    "    general_test_accuracy.append(average_test_accuracy.item())\n",
    "    general_accuracy.append(average_accuracy.item())\n",
    "    printLogs(\n",
    "        epoch,\n",
    "        EPOCHS,\n",
    "        losses,\n",
    "        average_accuracy,\n",
    "        average_test_accuracy,\n",
    "        test_losses,\n",
    "    )"
   ]
  },
  {
   "cell_type": "code",
   "execution_count": 5,
   "metadata": {},
   "outputs": [
    {
     "name": "stdout",
     "output_type": "stream",
     "text": [
      "Misclassification (to Teacher ) in 10000 pictures: 94 (99.05999755859375 Accuracy)\n",
      "Misclassification (to Real Data) in 10000 pictures: 289 (97.11000061035156 Accuracy)\n"
     ]
    },
    {
     "data": {
      "image/png": "[encoded data removed]",
      "text/plain": [
       "<Figure size 640x480 with 1 Axes>"
      ]
     },
     "metadata": {},
     "output_type": "display_data"
    },
    {
     "data": {
      "image/png": "[encoded data removed]",
      "text/plain": [
       "<Figure size 640x480 with 1 Axes>"
      ]
     },
     "metadata": {},
     "output_type": "display_data"
    }
   ],
   "source": [
    "y_pred = torch.argmax(student_model(X_test), dim=1)\n",
    "misclassifications_to_teacher_model = (y_pred != teacher_y_test).count_nonzero()\n",
    "misclassifications_to_real_y_test = (y_pred != y_test).count_nonzero()\n",
    "print(\n",
    "    f\"Misclassification (to Teacher ) in {teacher_y_test.__len__()} pictures: {misclassifications_to_teacher_model} ({(teacher_y_test.__len__()-misclassifications_to_teacher_model)/teacher_y_test.__len__()*100} Accuracy)\"\n",
    ")\n",
    "print(\n",
    "    f\"Misclassification (to Real Data) in {y_test.__len__()} pictures: {misclassifications_to_real_y_test} ({(y_test.__len__()-misclassifications_to_real_y_test)/y_test.__len__()*100} Accuracy)\"\n",
    ")\n",
    "plt.plot(torch.tensor(general_loss).cpu(), label=\"Loss\")\n",
    "plt.plot(torch.tensor(general_test_loss).cpu(), label=\"Test Loss\")\n",
    "plt.legend()\n",
    "plt.show()\n",
    "plt.plot(torch.tensor(general_accuracy).cpu(), label=\"Accuracy\")\n",
    "plt.plot(torch.tensor(general_test_accuracy).cpu(), label=\"Test Accuracy\")\n",
    "plt.legend()\n",
    "plt.show()"
   ]
  },
  {
   "cell_type": "markdown",
   "metadata": {},
   "source": [
    "# Student "
   ]
  },
  {
   "cell_type": "code",
   "execution_count": 7,
   "metadata": {},
   "outputs": [
    {
     "data": {
      "text/plain": [
       "'cuda'"
      ]
     },
     "execution_count": 7,
     "metadata": {},
     "output_type": "execute_result"
    }
   ],
   "source": [
    "import torch.nn as nn\n",
    "from torch.utils.data import DataLoader\n",
    "from torchvision import datasets, transforms\n",
    "import torch\n",
    "from sklearn.model_selection import train_test_split\n",
    "\n",
    "device = \"cuda\" if torch.cuda.is_available() else \"cpu\"\n",
    "torch.set_default_device(device)\n",
    "\n",
    "torch.manual_seed(43)\n",
    "device"
   ]
  },
  {
   "cell_type": "code",
   "execution_count": 13,
   "metadata": {},
   "outputs": [],
   "source": [
    "from torchvision.transforms import ToTensor\n",
    "\n",
    "train_data = datasets.MNIST(\n",
    "    root=\"data\",\n",
    "    train=True,\n",
    "    transform=ToTensor(),\n",
    "    download=True,\n",
    ")\n",
    "\n",
    "test_data = datasets.MNIST(root=\"data\", train=False, transform=ToTensor())\n",
    "x_train_not_normalized = train_data.data.float().to(device=device)\n",
    "y_train = train_data.targets.to(device=device)\n",
    "x_test_not_normalized = test_data.data.float().to(device=device)\n",
    "y_test = test_data.targets.to(device=device)\n",
    "\n",
    "# normalization\n",
    "x_train = (x_train_not_normalized - x_train_not_normalized.min()) / (\n",
    "    x_train_not_normalized.max() - x_train_not_normalized.min()\n",
    ")\n",
    "x_test = (x_test_not_normalized - x_test_not_normalized.min()) / (\n",
    "    x_test_not_normalized.max() - x_test_not_normalized.min()\n",
    ")\n",
    "\n",
    "train_loader = DataLoader(dataset=list(zip(x_train, y_train)), batch_size=32)\n",
    "test_loader = DataLoader(dataset=list(zip(x_test, y_test)), batch_size=32)"
   ]
  },
  {
   "cell_type": "code",
   "execution_count": 14,
   "metadata": {},
   "outputs": [],
   "source": [
    "class Student(nn.Module):\n",
    "    def __init__(self):\n",
    "        super(Student, self).__init__()\n",
    "        self.fc1 = nn.Linear(784, 128)\n",
    "        self.fc2 = nn.Linear(128, 64)\n",
    "        self.fc3 = nn.Linear(64, 10)\n",
    "        self.relu = nn.ReLU()\n",
    "\n",
    "    def forward(self, x):\n",
    "        x = torch.flatten(x, start_dim=1)\n",
    "        x = self.fc1(x)\n",
    "        x = self.relu(x)\n",
    "        x = self.fc2(x)\n",
    "        x = self.relu(x)\n",
    "        x = self.fc3(x)\n",
    "        return x"
   ]
  },
  {
   "cell_type": "code",
   "execution_count": 15,
   "metadata": {},
   "outputs": [],
   "source": [
    "import torch.optim as optim\n",
    "\n",
    "student = Student().to(device)\n",
    "optimizer = optim.SGD(student.parameters(), lr=0.01)\n",
    "criterion = nn.CrossEntropyLoss()"
   ]
  },
  {
   "cell_type": "code",
   "execution_count": 16,
   "metadata": {},
   "outputs": [
    {
     "name": "stdout",
     "output_type": "stream",
     "text": [
      "Epoch 1, Loss:2337.0819381028414\n",
      "Epoch 2, Loss:718.4296261742711\n",
      "Epoch 3, Loss:580.4996231161058\n",
      "Epoch 4, Loss:504.7419978007674\n",
      "Epoch 5, Loss:447.4154569096863\n",
      "Epoch 6, Loss:400.2538447184488\n",
      "Epoch 7, Loss:360.2713991990313\n",
      "Epoch 8, Loss:325.9272762751207\n",
      "Epoch 9, Loss:296.4944912851788\n",
      "Epoch 10, Loss:270.77778948191553\n"
     ]
    }
   ],
   "source": [
    "\n",
    "accuracy = []\n",
    "for epoch in range(10):\n",
    "    running_loss = 0.0\n",
    "    acc = 0\n",
    "    \n",
    "    for data in train_loader:\n",
    "        inputs, truth = data\n",
    "        optimizer.zero_grad()\n",
    "        pred = student(inputs.to(device).float())\n",
    "        truth = truth.to(device)\n",
    "        loss = criterion(pred, truth)\n",
    "        loss.backward()\n",
    "        optimizer.step()\n",
    "        running_loss += loss.item()\n",
    "        pred = torch.argmax(pred, dim=1).float()\n",
    "        acc += torch.sum(pred == truth).item()\n",
    "    total_examples = len(train_loader.dataset)\n",
    "    accuracy.append(acc / total_examples)\n",
    "\n",
    "    print(f\"Epoch {epoch+1}, Loss:{running_loss}\")"
   ]
  },
  {
   "cell_type": "code",
   "execution_count": 23,
   "metadata": {},
   "outputs": [
    {
     "data": {
      "text/plain": [
       "[0.6447833333333334,\n",
       " 0.8912166666666667,\n",
       " 0.9118833333333334,\n",
       " 0.9229833333333334,\n",
       " 0.9314,\n",
       " 0.93845,\n",
       " 0.9446166666666667,\n",
       " 0.9499166666666666,\n",
       " 0.9542333333333334,\n",
       " 0.9583166666666667]"
      ]
     },
     "execution_count": 23,
     "metadata": {},
     "output_type": "execute_result"
    }
   ],
   "source": [
    "accuracy "
   ]
  },
  {
   "cell_type": "code",
   "execution_count": 25,
   "metadata": {},
   "outputs": [
    {
     "data": {
      "image/png": "[encoded data removed]",
      "text/plain": [
       "<Figure size 800x600 with 1 Axes>"
      ]
     },
     "metadata": {},
     "output_type": "display_data"
    }
   ],
   "source": [
    "import matplotlib.pyplot as plt\n",
    "import numpy as np\n",
    "\n",
    "accuracy_int = [int(acc * 100) for acc in accuracy]\n",
    "\n",
    "\n",
    "epochs = list(range(1, 11))\n",
    "plt.figure(figsize=(8, 6))\n",
    "plt.plot(epochs, accuracy_int, label='Student Accuracy')\n",
    "plt.plot(epochs, torch.tensor(general_accuracy).cpu(), label='(KD) Student Accuracy')\n",
    "plt.xlabel('Epochs')\n",
    "plt.ylabel('Accuracy')\n",
    "plt.legend()\n",
    "plt.grid(True)\n",
    "plt.show()\n"
   ]
  },
  {
   "cell_type": "code",
   "execution_count": null,
   "metadata": {},
   "outputs": [],
   "source": []
  }
 ],
 "metadata": {
  "kernelspec": {
   "display_name": "Python 3 (ipykernel)",
   "language": "python",
   "name": "python3"
  },
  "language_info": {
   "codemirror_mode": {
    "name": "ipython",
    "version": 3
   },
   "file_extension": ".py",
   "mimetype": "text/x-python",
   "name": "python",
   "nbconvert_exporter": "python",
   "pygments_lexer": "ipython3",
   "version": "3.9.13"
  }
 },
 "nbformat": 4,
 "nbformat_minor": 2
}
