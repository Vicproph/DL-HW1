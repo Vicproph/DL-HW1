{
 "cells": [
  {
   "cell_type": "code",
   "execution_count": 17,
   "id": "1d5a16f0",
   "metadata": {},
   "outputs": [],
   "source": [
    "import torch\n",
    "def ari(true_labels, predicted_labels):\n",
    "    n = len(true_labels)\n",
    "    \n",
    "    contingency_matrix = torch.zeros(n, n, dtype=torch.float)\n",
    "\n",
    "    for i in range(n):\n",
    "        for j in range(n):\n",
    "            contingency_matrix[i, j] = torch.sum((true_labels == i) & (predicted_labels == j)).item()\n",
    "    \n",
    "    a = torch.sum(contingency_matrix, dim=1)  \n",
    "    b = torch.sum(contingency_matrix, dim=0) \n",
    "    n_choose_2 = n * (n - 1) / 2\n",
    "    \n",
    "    TP = torch.sum(contingency_matrix * (contingency_matrix - 1) / 2)\n",
    "    FP = torch.sum(a * (a - 1) / 2) - TP\n",
    "    FN = torch.sum(b * (b - 1) / 2) - TP\n",
    "    TN = n_choose_2 - TP - FP - FN\n",
    "    ARI = (TP - (FP * FN) / n_choose_2) / ((TP + (FP + FN) / 2) - (FP * FN) / n_choose_2)\n",
    "    \n",
    "    return ARI\n",
    "\n"
   ]
  },
  {
   "cell_type": "code",
   "execution_count": 18,
   "id": "4e27f02d",
   "metadata": {},
   "outputs": [],
   "source": [
    "true_labels = torch.tensor([0, 0, 1, 1, 2, 2])\n",
    "predicted_labels = torch.tensor([0, 0, 2, 1, 2, 2])"
   ]
  },
  {
   "cell_type": "code",
   "execution_count": 22,
   "id": "15ee4841",
   "metadata": {},
   "outputs": [
    {
     "data": {
      "image/png": "[encoded data removed]",
      "text/plain": [
       "<Figure size 640x480 with 1 Axes>"
      ]
     },
     "metadata": {},
     "output_type": "display_data"
    }
   ],
   "source": [
    "import pandas as pd\n",
    "import numpy as np\n",
    "from PIL import Image\n",
    "import matplotlib.pyplot as plt\n",
    "from io import BytesIO\n",
    "\n",
    "a = ari(true_labels, predicted_labels)\n",
    "b = ari(true_labels, predicted_labels)\n",
    "\n",
    "formatted_a = \"{:.3f} %\".format(a.item() * 100)\n",
    "formatted_b = \"{:.3f} %\".format(b.item() * 100)\n",
    "\n",
    "data = {\"Method\": [\"K-Means\", \"DAC\"], \"ARI\": [formatted_a, formatted_b]}\n",
    "\n",
    "df = pd.DataFrame(data)\n",
    "fig, ax = plt.subplots()\n",
    "ax.axis(\"off\")\n",
    "\n",
    "table = plt.table(cellText=df.values, colLabels=df.columns, cellLoc=\"center\", loc=\"center\")\n",
    "table.auto_set_font_size(False)\n",
    "table.set_fontsize(9)\n",
    "\n",
    "buffer = BytesIO()\n",
    "plt.savefig(buffer, format=\"png\")\n",
    "buffer.seek(0)\n",
    "img = Image.open(buffer)\n"
   ]
  }
 ],
 "metadata": {
  "kernelspec": {
   "display_name": "Python 3 (ipykernel)",
   "language": "python",
   "name": "python3"
  },
  "language_info": {
   "codemirror_mode": {
    "name": "ipython",
    "version": 3
   },
   "file_extension": ".py",
   "mimetype": "text/x-python",
   "name": "python",
   "nbconvert_exporter": "python",
   "pygments_lexer": "ipython3",
   "version": "3.9.13"
  }
 },
 "nbformat": 4,
 "nbformat_minor": 5
}
