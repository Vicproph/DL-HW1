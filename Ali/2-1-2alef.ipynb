{
 "cells": [
  {
   "cell_type": "markdown",
   "id": "d10cbbc1",
   "metadata": {},
   "source": [
    "# Add the data + EDA"
   ]
  },
  {
   "cell_type": "code",
   "execution_count": 45,
   "id": "1468e664",
   "metadata": {},
   "outputs": [],
   "source": [
    "from sklearn import datasets\n",
    "import matplotlib.pyplot as plt\n",
    "import pandas as pd\n",
    "import numpy as np\n",
    "\n",
    "iris = datasets.load_iris()"
   ]
  },
  {
   "cell_type": "code",
   "execution_count": 46,
   "id": "4ca1afa1",
   "metadata": {},
   "outputs": [
    {
     "data": {
      "text/plain": [
       "(150,\n",
       " 5,\n",
       " ['sepal length (cm)',\n",
       "  'sepal width (cm)',\n",
       "  'petal length (cm)',\n",
       "  'petal width (cm)',\n",
       "  'target'])"
      ]
     },
     "execution_count": 46,
     "metadata": {},
     "output_type": "execute_result"
    }
   ],
   "source": [
    "array = []\n",
    "for data, tagret in zip(iris.data,iris.target):\n",
    "    row = np.append(data, tagret)\n",
    "    array.append(row)\n",
    "    \n",
    "array = np.array(array)\n",
    "col = iris.feature_names + [\"target\"]\n",
    "len(array), len(array[0]), col"
   ]
  },
  {
   "cell_type": "code",
   "execution_count": 47,
   "id": "30090cc7",
   "metadata": {},
   "outputs": [],
   "source": [
    "df = pd.DataFrame(array, columns = col)"
   ]
  },
  {
   "cell_type": "code",
   "execution_count": 48,
   "id": "1d0b1459",
   "metadata": {},
   "outputs": [
    {
     "data": {
      "text/html": [
       "<div>\n",
       "<style scoped>\n",
       "    .dataframe tbody tr th:only-of-type {\n",
       "        vertical-align: middle;\n",
       "    }\n",
       "\n",
       "    .dataframe tbody tr th {\n",
       "        vertical-align: top;\n",
       "    }\n",
       "\n",
       "    .dataframe thead th {\n",
       "        text-align: right;\n",
       "    }\n",
       "</style>\n",
       "<table border=\"1\" class=\"dataframe\">\n",
       "  <thead>\n",
       "    <tr style=\"text-align: right;\">\n",
       "      <th></th>\n",
       "      <th>sepal length (cm)</th>\n",
       "      <th>sepal width (cm)</th>\n",
       "      <th>petal length (cm)</th>\n",
       "      <th>petal width (cm)</th>\n",
       "      <th>target</th>\n",
       "    </tr>\n",
       "  </thead>\n",
       "  <tbody>\n",
       "    <tr>\n",
       "      <th>0</th>\n",
       "      <td>5.1</td>\n",
       "      <td>3.5</td>\n",
       "      <td>1.4</td>\n",
       "      <td>0.2</td>\n",
       "      <td>0.0</td>\n",
       "    </tr>\n",
       "    <tr>\n",
       "      <th>1</th>\n",
       "      <td>4.9</td>\n",
       "      <td>3.0</td>\n",
       "      <td>1.4</td>\n",
       "      <td>0.2</td>\n",
       "      <td>0.0</td>\n",
       "    </tr>\n",
       "    <tr>\n",
       "      <th>2</th>\n",
       "      <td>4.7</td>\n",
       "      <td>3.2</td>\n",
       "      <td>1.3</td>\n",
       "      <td>0.2</td>\n",
       "      <td>0.0</td>\n",
       "    </tr>\n",
       "    <tr>\n",
       "      <th>3</th>\n",
       "      <td>4.6</td>\n",
       "      <td>3.1</td>\n",
       "      <td>1.5</td>\n",
       "      <td>0.2</td>\n",
       "      <td>0.0</td>\n",
       "    </tr>\n",
       "    <tr>\n",
       "      <th>4</th>\n",
       "      <td>5.0</td>\n",
       "      <td>3.6</td>\n",
       "      <td>1.4</td>\n",
       "      <td>0.2</td>\n",
       "      <td>0.0</td>\n",
       "    </tr>\n",
       "  </tbody>\n",
       "</table>\n",
       "</div>"
      ],
      "text/plain": [
       "   sepal length (cm)  sepal width (cm)  petal length (cm)  petal width (cm)  \\\n",
       "0                5.1               3.5                1.4               0.2   \n",
       "1                4.9               3.0                1.4               0.2   \n",
       "2                4.7               3.2                1.3               0.2   \n",
       "3                4.6               3.1                1.5               0.2   \n",
       "4                5.0               3.6                1.4               0.2   \n",
       "\n",
       "   target  \n",
       "0     0.0  \n",
       "1     0.0  \n",
       "2     0.0  \n",
       "3     0.0  \n",
       "4     0.0  "
      ]
     },
     "execution_count": 48,
     "metadata": {},
     "output_type": "execute_result"
    }
   ],
   "source": [
    "df.head()"
   ]
  },
  {
   "cell_type": "code",
   "execution_count": 49,
   "id": "f812e4d8",
   "metadata": {},
   "outputs": [
    {
     "name": "stdout",
     "output_type": "stream",
     "text": [
      "<class 'pandas.core.frame.DataFrame'>\n",
      "RangeIndex: 150 entries, 0 to 149\n",
      "Data columns (total 5 columns):\n",
      " #   Column             Non-Null Count  Dtype  \n",
      "---  ------             --------------  -----  \n",
      " 0   sepal length (cm)  150 non-null    float64\n",
      " 1   sepal width (cm)   150 non-null    float64\n",
      " 2   petal length (cm)  150 non-null    float64\n",
      " 3   petal width (cm)   150 non-null    float64\n",
      " 4   target             150 non-null    float64\n",
      "dtypes: float64(5)\n",
      "memory usage: 6.0 KB\n"
     ]
    }
   ],
   "source": [
    "df.info()"
   ]
  },
  {
   "cell_type": "code",
   "execution_count": 50,
   "id": "0526071f",
   "metadata": {},
   "outputs": [
    {
     "data": {
      "text/html": [
       "<div>\n",
       "<style scoped>\n",
       "    .dataframe tbody tr th:only-of-type {\n",
       "        vertical-align: middle;\n",
       "    }\n",
       "\n",
       "    .dataframe tbody tr th {\n",
       "        vertical-align: top;\n",
       "    }\n",
       "\n",
       "    .dataframe thead th {\n",
       "        text-align: right;\n",
       "    }\n",
       "</style>\n",
       "<table border=\"1\" class=\"dataframe\">\n",
       "  <thead>\n",
       "    <tr style=\"text-align: right;\">\n",
       "      <th></th>\n",
       "      <th>sepal length (cm)</th>\n",
       "      <th>sepal width (cm)</th>\n",
       "      <th>petal length (cm)</th>\n",
       "      <th>petal width (cm)</th>\n",
       "      <th>target</th>\n",
       "    </tr>\n",
       "  </thead>\n",
       "  <tbody>\n",
       "    <tr>\n",
       "      <th>count</th>\n",
       "      <td>150.000000</td>\n",
       "      <td>150.000000</td>\n",
       "      <td>150.000000</td>\n",
       "      <td>150.000000</td>\n",
       "      <td>150.000000</td>\n",
       "    </tr>\n",
       "    <tr>\n",
       "      <th>mean</th>\n",
       "      <td>5.843333</td>\n",
       "      <td>3.057333</td>\n",
       "      <td>3.758000</td>\n",
       "      <td>1.199333</td>\n",
       "      <td>1.000000</td>\n",
       "    </tr>\n",
       "    <tr>\n",
       "      <th>std</th>\n",
       "      <td>0.828066</td>\n",
       "      <td>0.435866</td>\n",
       "      <td>1.765298</td>\n",
       "      <td>0.762238</td>\n",
       "      <td>0.819232</td>\n",
       "    </tr>\n",
       "    <tr>\n",
       "      <th>min</th>\n",
       "      <td>4.300000</td>\n",
       "      <td>2.000000</td>\n",
       "      <td>1.000000</td>\n",
       "      <td>0.100000</td>\n",
       "      <td>0.000000</td>\n",
       "    </tr>\n",
       "    <tr>\n",
       "      <th>25%</th>\n",
       "      <td>5.100000</td>\n",
       "      <td>2.800000</td>\n",
       "      <td>1.600000</td>\n",
       "      <td>0.300000</td>\n",
       "      <td>0.000000</td>\n",
       "    </tr>\n",
       "    <tr>\n",
       "      <th>50%</th>\n",
       "      <td>5.800000</td>\n",
       "      <td>3.000000</td>\n",
       "      <td>4.350000</td>\n",
       "      <td>1.300000</td>\n",
       "      <td>1.000000</td>\n",
       "    </tr>\n",
       "    <tr>\n",
       "      <th>75%</th>\n",
       "      <td>6.400000</td>\n",
       "      <td>3.300000</td>\n",
       "      <td>5.100000</td>\n",
       "      <td>1.800000</td>\n",
       "      <td>2.000000</td>\n",
       "    </tr>\n",
       "    <tr>\n",
       "      <th>max</th>\n",
       "      <td>7.900000</td>\n",
       "      <td>4.400000</td>\n",
       "      <td>6.900000</td>\n",
       "      <td>2.500000</td>\n",
       "      <td>2.000000</td>\n",
       "    </tr>\n",
       "  </tbody>\n",
       "</table>\n",
       "</div>"
      ],
      "text/plain": [
       "       sepal length (cm)  sepal width (cm)  petal length (cm)  \\\n",
       "count         150.000000        150.000000         150.000000   \n",
       "mean            5.843333          3.057333           3.758000   \n",
       "std             0.828066          0.435866           1.765298   \n",
       "min             4.300000          2.000000           1.000000   \n",
       "25%             5.100000          2.800000           1.600000   \n",
       "50%             5.800000          3.000000           4.350000   \n",
       "75%             6.400000          3.300000           5.100000   \n",
       "max             7.900000          4.400000           6.900000   \n",
       "\n",
       "       petal width (cm)      target  \n",
       "count        150.000000  150.000000  \n",
       "mean           1.199333    1.000000  \n",
       "std            0.762238    0.819232  \n",
       "min            0.100000    0.000000  \n",
       "25%            0.300000    0.000000  \n",
       "50%            1.300000    1.000000  \n",
       "75%            1.800000    2.000000  \n",
       "max            2.500000    2.000000  "
      ]
     },
     "execution_count": 50,
     "metadata": {},
     "output_type": "execute_result"
    }
   ],
   "source": [
    "df.describe()"
   ]
  },
  {
   "cell_type": "code",
   "execution_count": 51,
   "id": "77066bc4",
   "metadata": {},
   "outputs": [
    {
     "data": {
      "image/png": "[encoded data removed]",
      "text/plain": [
       "<Figure size 640x480 with 1 Axes>"
      ]
     },
     "metadata": {},
     "output_type": "display_data"
    }
   ],
   "source": [
    "from sklearn.model_selection import train_test_split\n",
    "\n",
    "SETOSA = 0\n",
    "VERSICOLOR = 1\n",
    "VIRGINICA = 2\n",
    "\n",
    "X = np.array(iris[\"data\"][:, :2], dtype=np.float64)\n",
    "y = np.array(iris[\"target\"], dtype=np.float64)\n",
    "original_y = y.copy()\n",
    "\n",
    "for i in range(X.shape[1]):\n",
    "    X[:, i] = (X[:, i] - X[:, i].min()) / (X[:, i].max() - X[:, i].min())\n",
    "\n",
    "# Create a legend by specifying labels for each class\n",
    "labels = [\"Setosa\", \"Versicolor\", \"Virginica\"]\n",
    "\n",
    "plt.scatter(x=X[y == SETOSA, 0], y=X[y == SETOSA, 1], label=labels[SETOSA], s=8, cmap=plt.cm.RdYlBu)\n",
    "plt.scatter(x=X[y == VERSICOLOR, 0], y=X[y == VERSICOLOR, 1], label=labels[VERSICOLOR], s=8, cmap=plt.cm.RdYlBu)\n",
    "plt.scatter(x=X[y == VIRGINICA, 0], y=X[y == VIRGINICA, 1], label=labels[VIRGINICA], s=8, cmap=plt.cm.RdYlBu)\n",
    "\n",
    "plt.legend()\n",
    "plt.show()"
   ]
  },
  {
   "cell_type": "code",
   "execution_count": 52,
   "id": "4981623e",
   "metadata": {},
   "outputs": [],
   "source": [
    "for i in range(y.shape[0]):  # these are either VERSICOLOR or not\n",
    "    y[i] = 1.0 if y[i] == SETOSA else -1.0\n",
    "\n",
    "x_train, x_test, y_train, y_test = train_test_split(\n",
    "    X, y, test_size=0.33, random_state=42\n",
    ")"
   ]
  },
  {
   "cell_type": "code",
   "execution_count": 53,
   "id": "35e30bae",
   "metadata": {},
   "outputs": [
    {
     "data": {
      "text/plain": [
       "array([-1., -1., -1.,  1., -1., -1.,  1.,  1.,  1., -1., -1.,  1.,  1.,\n",
       "        1., -1.,  1., -1., -1.,  1., -1., -1.,  1., -1., -1., -1., -1.,\n",
       "       -1., -1.,  1., -1., -1.,  1.,  1., -1., -1.,  1., -1.,  1.,  1.,\n",
       "       -1., -1., -1., -1., -1., -1., -1.,  1.,  1., -1., -1.,  1.,  1.,\n",
       "        1., -1., -1.,  1., -1., -1.,  1., -1., -1., -1., -1., -1.,  1.,\n",
       "       -1., -1., -1., -1., -1., -1.,  1., -1., -1.,  1., -1., -1., -1.,\n",
       "        1., -1., -1., -1.,  1., -1.,  1., -1., -1., -1., -1., -1., -1.,\n",
       "       -1., -1., -1.,  1., -1., -1.,  1., -1., -1.])"
      ]
     },
     "execution_count": 53,
     "metadata": {},
     "output_type": "execute_result"
    }
   ],
   "source": [
    "y_train\n"
   ]
  },
  {
   "cell_type": "markdown",
   "id": "ad030f34",
   "metadata": {},
   "source": [
    "# Adaline"
   ]
  },
  {
   "cell_type": "code",
   "execution_count": 54,
   "id": "c5437efb",
   "metadata": {},
   "outputs": [],
   "source": [
    "\n",
    "class Adaline:\n",
    "    def __init__(self, x_train, y_train, x_test, y_test):\n",
    "        self.inputs = x_train\n",
    "        self.targets = y_train\n",
    "        \n",
    "        self.x_test = x_test\n",
    "        self.y_test = y_test\n",
    "        \n",
    "        np.random.seed(42)\n",
    "        self._weights = np.random.random(self.inputs.shape[1])\n",
    "        self._bias = np.random.random()\n",
    "    \n",
    "    def fit(self, lr=0.001, thr=0.0001, max_epochs=1000):\n",
    "        self.lr = lr\n",
    "        self.thr = thr\n",
    "        self.losses = []\n",
    "        self.test_losses = []\n",
    "\n",
    "        for epoch in range(max_epochs):\n",
    "            errors = []\n",
    "            \n",
    "            for i in range(self.inputs.shape[0]):\n",
    "                y = np.dot(self.inputs[i], self._weights) + self._bias\n",
    "                y = 1.0 if y >= 0 else -1.0\n",
    "\n",
    "                error = 0.5 * ((self.targets[i] - y) ** 2)\n",
    "                update = self.lr * (self.targets[i] - y) \n",
    "                self._weights += update * self.inputs[i]\n",
    "                self._bias += update\n",
    "                errors.append(error)\n",
    "\n",
    "            loss = np.mean(errors)\n",
    "\n",
    "            self.losses.append(loss)\n",
    "            test_errors = []\n",
    "            for i in range(self.x_test.shape[0]):\n",
    "                unactivated_test_pred = (\n",
    "                        np.dot(self._weights, self.x_test[i]) + self._bias\n",
    "                    )\n",
    "\n",
    "                test_pred = 1.0 if unactivated_test_pred >= 0 else -1.0\n",
    "\n",
    "                test_error = 0.5 * ((self.y_test[i] - test_pred) ** 2)\n",
    "                test_errors.append(test_error)\n",
    "                test_loss = np.mean(test_errors)\n",
    "            self.test_losses.append(test_loss)\n",
    "            print(f\"Epoch: {epoch} | Loss: {loss} | Test Loss: {test_loss}\")\n",
    "            \n",
    "            if loss < self.thr:\n",
    "                print(f\"Converged after {epoch} epochs!\")\n",
    "                break\n",
    "\n",
    "        return  self.test_losses, self.losses\n",
    "    \n",
    "    def predict(self, test_data):\n",
    "        predictions = []\n",
    "        for i in range(test_data.shape[0]):\n",
    "            y = np.dot(test_data[i], self._weights) + self._bias\n",
    "            predictions.append(y)\n",
    "        return np.array(predictions)\n"
   ]
  },
  {
   "cell_type": "code",
   "execution_count": 55,
   "id": "0af5d113",
   "metadata": {},
   "outputs": [
    {
     "name": "stdout",
     "output_type": "stream",
     "text": [
      "Epoch: 0 | Loss: 1.38 | Test Loss: 1.24\n",
      "Epoch: 1 | Loss: 1.38 | Test Loss: 1.24\n",
      "Epoch: 2 | Loss: 1.38 | Test Loss: 1.24\n",
      "Epoch: 3 | Loss: 1.38 | Test Loss: 1.24\n",
      "Epoch: 4 | Loss: 1.38 | Test Loss: 1.24\n",
      "Epoch: 5 | Loss: 1.36 | Test Loss: 1.16\n",
      "Epoch: 6 | Loss: 0.88 | Test Loss: 0.68\n",
      "Epoch: 7 | Loss: 0.36 | Test Loss: 0.28\n",
      "Epoch: 8 | Loss: 0.18 | Test Loss: 0.16\n",
      "Epoch: 9 | Loss: 0.18 | Test Loss: 0.16\n",
      "Epoch: 10 | Loss: 0.18 | Test Loss: 0.24\n",
      "Epoch: 11 | Loss: 0.16 | Test Loss: 0.24\n",
      "Epoch: 12 | Loss: 0.14 | Test Loss: 0.24\n",
      "Epoch: 13 | Loss: 0.14 | Test Loss: 0.24\n",
      "Epoch: 14 | Loss: 0.14 | Test Loss: 0.24\n",
      "Epoch: 15 | Loss: 0.14 | Test Loss: 0.16\n",
      "Epoch: 16 | Loss: 0.14 | Test Loss: 0.16\n",
      "Epoch: 17 | Loss: 0.14 | Test Loss: 0.16\n",
      "Epoch: 18 | Loss: 0.14 | Test Loss: 0.16\n",
      "Epoch: 19 | Loss: 0.14 | Test Loss: 0.16\n",
      "Epoch: 20 | Loss: 0.14 | Test Loss: 0.16\n",
      "Epoch: 21 | Loss: 0.14 | Test Loss: 0.16\n",
      "Epoch: 22 | Loss: 0.12 | Test Loss: 0.12\n",
      "Epoch: 23 | Loss: 0.14 | Test Loss: 0.12\n",
      "Epoch: 24 | Loss: 0.12 | Test Loss: 0.12\n",
      "Epoch: 25 | Loss: 0.12 | Test Loss: 0.12\n"
     ]
    }
   ],
   "source": [
    "model = Adaline(x_train, y_train, x_test, y_test)\n",
    "test_losses, losses = model.fit(0.001, 0.02, 25)"
   ]
  },
  {
   "cell_type": "code",
   "execution_count": 58,
   "id": "a4ed06c1",
   "metadata": {},
   "outputs": [
    {
     "data": {
      "image/png": "[encoded data removed]",
      "text/plain": [
       "<Figure size 640x480 with 1 Axes>"
      ]
     },
     "metadata": {},
     "output_type": "display_data"
    }
   ],
   "source": [
    "plt.plot(losses, label=\"Train loss\")\n",
    "plt.plot(test_losses, label=\"Test loss\")\n",
    "plt.legend()\n",
    "plt.xlabel(\"epochs\")\n",
    "plt.ylabel(\"loss\")\n",
    "plt.show()"
   ]
  },
  {
   "cell_type": "code",
   "execution_count": null,
   "id": "f0d5e87c",
   "metadata": {},
   "outputs": [],
   "source": []
  }
 ],
 "metadata": {
  "kernelspec": {
   "display_name": "Python 3 (ipykernel)",
   "language": "python",
   "name": "python3"
  },
  "language_info": {
   "codemirror_mode": {
    "name": "ipython",
    "version": 3
   },
   "file_extension": ".py",
   "mimetype": "text/x-python",
   "name": "python",
   "nbconvert_exporter": "python",
   "pygments_lexer": "ipython3",
   "version": "3.9.13"
  }
 },
 "nbformat": 4,
 "nbformat_minor": 5
}
