{
 "cells": [
  {
   "cell_type": "code",
   "execution_count": 166,
   "id": "41f34169",
   "metadata": {},
   "outputs": [
    {
     "data": {
      "text/plain": [
       "<torch._C.Generator at 0x1fece758890>"
      ]
     },
     "execution_count": 166,
     "metadata": {},
     "output_type": "execute_result"
    }
   ],
   "source": [
    "import torch.nn as nn\n",
    "from torch.utils.data import DataLoader\n",
    "from torchvision import datasets, transforms\n",
    "import torch\n",
    "from sklearn.model_selection import train_test_split\n",
    "\n",
    "torch.manual_seed(43)"
   ]
  },
  {
   "cell_type": "code",
   "execution_count": 167,
   "id": "890a1097",
   "metadata": {},
   "outputs": [],
   "source": [
    "transform = transforms.Compose([transforms.ToTensor()])\n",
    "datasets = datasets.MNIST(root='./data', train=True, transform=transform, download=True)\n",
    "x_train, x_test, y_train, y_test = train_test_split(datasets.data, datasets.targets, test_size=0.2, random_state=42)\n",
    "train_loader = DataLoader(dataset=list(zip(x_train, y_train)), batch_size=32)\n",
    "test_loader = DataLoader(dataset=list(zip(x_test, y_test)), batch_size=32)"
   ]
  },
  {
   "cell_type": "code",
   "execution_count": 168,
   "id": "4b53407a",
   "metadata": {},
   "outputs": [],
   "source": [
    "class Student(nn.Module):\n",
    "    def __init__(self):\n",
    "        super(Student, self).__init__()\n",
    "        self.fc1 = nn.Linear(784,128)\n",
    "        self.fc2 = nn.Linear(128,64)\n",
    "        self.fc3 = nn.Linear(64,10)\n",
    "        self.relu = nn.ReLU()\n",
    "    def forward(self, x):\n",
    "        x = torch.flatten(x, start_dim=1)\n",
    "        x = self.fc1(x)\n",
    "        x = self.relu(x)\n",
    "        x = self.fc2(x)\n",
    "        x = self.relu(x)\n",
    "        x = self.fc3(x)\n",
    "        return x\n"
   ]
  },
  {
   "cell_type": "code",
   "execution_count": 169,
   "id": "a1873782",
   "metadata": {},
   "outputs": [],
   "source": [
    "import torch.optim as optim\n",
    "\n",
    "student = Student().to(\"cuda\")\n",
    "optimizer = optim.SGD(student.parameters(), lr=0.01)\n",
    "criterion = nn.CrossEntropyLoss()"
   ]
  },
  {
   "cell_type": "code",
   "execution_count": 170,
   "id": "fbcf1af7",
   "metadata": {},
   "outputs": [
    {
     "name": "stdout",
     "output_type": "stream",
     "text": [
      "Epoch 1, Loss:1574934.330837965\n",
      "Epoch 2, Loss:3450.7629561424255\n",
      "Epoch 3, Loss:3450.53914809227\n",
      "Epoch 4, Loss:3450.4870343208313\n",
      "Epoch 5, Loss:3450.4713122844696\n",
      "Epoch 6, Loss:3450.4508938789368\n",
      "Epoch 7, Loss:3450.403995037079\n",
      "Epoch 8, Loss:3450.4160418510437\n",
      "Epoch 9, Loss:3450.406290769577\n",
      "Epoch 10, Loss:3450.380619764328\n"
     ]
    }
   ],
   "source": [
    "for epoch in range(10):\n",
    "    running_loss = 0.0\n",
    "\n",
    "    for data in train_loader:\n",
    "        inputs, truth = data\n",
    "        optimizer.zero_grad()\n",
    "        pred = student(inputs.to(\"cuda\").float())\n",
    "        truth = truth.to(\"cuda\")\n",
    "        loss = criterion(pred, truth)\n",
    "        loss.backward()\n",
    "        optimizer.step()\n",
    "        running_loss += loss.item()\n",
    "\n",
    "    print(f\"Epoch {epoch+1}, Loss:{running_loss}\")"
   ]
  },
  {
   "cell_type": "code",
   "execution_count": 171,
   "id": "016977ef",
   "metadata": {},
   "outputs": [],
   "source": [
    "misclassifications = 0\n",
    "student.eval()\n",
    "with torch.no_grad():\n",
    "    for data in test_loader:\n",
    "            inputs, truth = data\n",
    "            optimizer.zero_grad()\n",
    "            pred = student(inputs.to(\"cuda\").float())\n",
    "            pred =torch.argmax(pred, dim=1).float()\n",
    "            truth = truth.to(\"cuda\").float()\n",
    "            misclassifications += torch.sum(pred != truth).item()"
   ]
  },
  {
   "cell_type": "code",
   "execution_count": 173,
   "id": "6a2a3629",
   "metadata": {},
   "outputs": [
    {
     "data": {
      "text/plain": [
       "10684"
      ]
     },
     "execution_count": 173,
     "metadata": {},
     "output_type": "execute_result"
    }
   ],
   "source": [
    "misclassifications"
   ]
  },
  {
   "cell_type": "code",
   "execution_count": 175,
   "id": "23f2e903",
   "metadata": {},
   "outputs": [
    {
     "data": {
      "text/plain": [
       "12000"
      ]
     },
     "execution_count": 175,
     "metadata": {},
     "output_type": "execute_result"
    }
   ],
   "source": [
    "len(test_loader)*32"
   ]
  },
  {
   "cell_type": "code",
   "execution_count": 172,
   "id": "cd7a3654",
   "metadata": {},
   "outputs": [
    {
     "data": {
      "text/plain": [
       "0.8903333333333333"
      ]
     },
     "execution_count": 172,
     "metadata": {},
     "output_type": "execute_result"
    }
   ],
   "source": [
    "misclassifications / (len(test_loader)*32)"
   ]
  },
  {
   "cell_type": "markdown",
   "id": "bf6e986d",
   "metadata": {},
   "source": [
    "# Almost 0.89% misclassification"
   ]
  }
 ],
 "metadata": {
  "kernelspec": {
   "display_name": "Python 3 (ipykernel)",
   "language": "python",
   "name": "python3"
  },
  "language_info": {
   "codemirror_mode": {
    "name": "ipython",
    "version": 3
   },
   "file_extension": ".py",
   "mimetype": "text/x-python",
   "name": "python",
   "nbconvert_exporter": "python",
   "pygments_lexer": "ipython3",
   "version": "3.9.13"
  }
 },
 "nbformat": 4,
 "nbformat_minor": 5
}
