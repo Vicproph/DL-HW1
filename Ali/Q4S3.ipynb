{
 "cells": [
  {
   "cell_type": "code",
   "execution_count": 46,
   "id": "41f34169",
   "metadata": {},
   "outputs": [
    {
     "data": {
      "text/plain": [
       "'cuda'"
      ]
     },
     "execution_count": 46,
     "metadata": {},
     "output_type": "execute_result"
    }
   ],
   "source": [
    "import torch.nn as nn\n",
    "from torch.utils.data import DataLoader\n",
    "from torchvision import datasets, transforms\n",
    "import torch\n",
    "from sklearn.model_selection import train_test_split\n",
    "\n",
    "device = \"cuda\" if torch.cuda.is_available() else \"cpu\"\n",
    "torch.set_default_device(device)\n",
    "\n",
    "torch.manual_seed(43)\n",
    "device"
   ]
  },
  {
   "cell_type": "code",
   "execution_count": 47,
   "id": "890a1097",
   "metadata": {},
   "outputs": [],
   "source": [
    "from torchvision.transforms import ToTensor\n",
    "\n",
    "train_data = datasets.MNIST(\n",
    "    root=\"data\",\n",
    "    train=True,\n",
    "    transform=ToTensor(),\n",
    "    download=True,\n",
    ")\n",
    "\n",
    "test_data = datasets.MNIST(root=\"data\", train=False, transform=ToTensor())\n",
    "x_train_not_normalized = train_data.data.float().to(device=device)\n",
    "y_train = train_data.targets.to(device=device)\n",
    "x_test_not_normalized = test_data.data.float().to(device=device)\n",
    "y_test = test_data.targets.to(device=device)\n",
    "\n",
    "# normalization\n",
    "x_train = (x_train_not_normalized - x_train_not_normalized.min()) / (\n",
    "    x_train_not_normalized.max() - x_train_not_normalized.min()\n",
    ")\n",
    "x_test = (x_test_not_normalized - x_test_not_normalized.min()) / (\n",
    "    x_test_not_normalized.max() - x_test_not_normalized.min()\n",
    ")\n",
    "\n",
    "train_loader = DataLoader(dataset=list(zip(x_train, y_train)), batch_size=32)\n",
    "test_loader = DataLoader(dataset=list(zip(x_test, y_test)), batch_size=32)"
   ]
  },
  {
   "cell_type": "code",
   "execution_count": 48,
   "id": "4b53407a",
   "metadata": {},
   "outputs": [],
   "source": [
    "class Student(nn.Module):\n",
    "    def __init__(self):\n",
    "        super(Student, self).__init__()\n",
    "        self.fc1 = nn.Linear(784, 128)\n",
    "        self.fc2 = nn.Linear(128, 64)\n",
    "        self.fc3 = nn.Linear(64, 10)\n",
    "        self.relu = nn.ReLU()\n",
    "\n",
    "    def forward(self, x):\n",
    "        x = torch.flatten(x, start_dim=1)\n",
    "        x = self.fc1(x)\n",
    "        x = self.relu(x)\n",
    "        x = self.fc2(x)\n",
    "        x = self.relu(x)\n",
    "        x = self.fc3(x)\n",
    "        return x"
   ]
  },
  {
   "cell_type": "code",
   "execution_count": 49,
   "id": "a1873782",
   "metadata": {},
   "outputs": [],
   "source": [
    "import torch.optim as optim\n",
    "\n",
    "student = Student().to(\"cuda\")\n",
    "optimizer = optim.SGD(student.parameters(), lr=0.01)\n",
    "criterion = nn.CrossEntropyLoss()"
   ]
  },
  {
   "cell_type": "code",
   "execution_count": 50,
   "id": "fbcf1af7",
   "metadata": {},
   "outputs": [
    {
     "name": "stdout",
     "output_type": "stream",
     "text": [
      "Epoch 1, Loss:2188.2704999297857\n",
      "Epoch 2, Loss:730.2676546275616\n",
      "Epoch 3, Loss:597.0679777469486\n",
      "Epoch 4, Loss:520.4293486177921\n",
      "Epoch 5, Loss:461.14736443571746\n",
      "Epoch 6, Loss:412.1882497901097\n",
      "Epoch 7, Loss:371.9845690159127\n",
      "Epoch 8, Loss:338.5877961451188\n",
      "Epoch 9, Loss:309.98394336085767\n",
      "Epoch 10, Loss:285.16330262832344\n"
     ]
    }
   ],
   "source": [
    "for epoch in range(10):\n",
    "    running_loss = 0.0\n",
    "\n",
    "    for data in train_loader:\n",
    "        inputs, truth = data\n",
    "        optimizer.zero_grad()\n",
    "        pred = student(inputs.to(\"cuda\").float())\n",
    "        truth = truth.to(\"cuda\")\n",
    "        loss = criterion(pred, truth)\n",
    "        loss.backward()\n",
    "        optimizer.step()\n",
    "        running_loss += loss.item()\n",
    "\n",
    "    print(f\"Epoch {epoch+1}, Loss:{running_loss}\")"
   ]
  },
  {
   "cell_type": "code",
   "execution_count": 51,
   "id": "016977ef",
   "metadata": {},
   "outputs": [],
   "source": [
    "misclassifications = 0\n",
    "student.eval()\n",
    "with torch.no_grad():\n",
    "    for data in test_loader:\n",
    "        inputs, truth = data\n",
    "        optimizer.zero_grad()\n",
    "        pred = student(inputs.float())\n",
    "        pred = torch.argmax(pred, dim=1).float()\n",
    "        truth = truth.float()\n",
    "        misclassifications += torch.sum(pred != truth).item()"
   ]
  },
  {
   "cell_type": "code",
   "execution_count": 52,
   "id": "6a2a3629",
   "metadata": {},
   "outputs": [
    {
     "data": {
      "text/plain": [
       "456"
      ]
     },
     "execution_count": 52,
     "metadata": {},
     "output_type": "execute_result"
    }
   ],
   "source": [
    "misclassifications"
   ]
  },
  {
   "cell_type": "code",
   "execution_count": 53,
   "id": "23f2e903",
   "metadata": {},
   "outputs": [
    {
     "data": {
      "text/plain": [
       "10016"
      ]
     },
     "execution_count": 53,
     "metadata": {},
     "output_type": "execute_result"
    }
   ],
   "source": [
    "len(test_loader) * 32"
   ]
  },
  {
   "cell_type": "code",
   "execution_count": 57,
   "id": "cd7a3654",
   "metadata": {},
   "outputs": [
    {
     "name": "stdout",
     "output_type": "stream",
     "text": [
      "Corectly Classified :9544\n",
      "Misclassified: 456\n"
     ]
    }
   ],
   "source": [
    "# print(f'Accuracy: {student(test_loader)}')\n",
    "# misclassifications / (len(test_loader) * 32)\n",
    "test_logits = student(x_test)\n",
    "\n",
    "misclassified = (pred != y_test).count_nonzero().item()\n",
    "_, pred = torch.softmax(test_logits, dim=1).max(dim=1)\n",
    "print(\n",
    "    f\"Corectly Classified :{y_test.__len__() - misclassifications}\\nMisclassified: {misclassifications}\"\n",
    ")"
   ]
  },
  {
   "cell_type": "markdown",
   "id": "bf6e986d",
   "metadata": {},
   "source": [
    "# Almost 0.89% misclassification\n"
   ]
  }
 ],
 "metadata": {
  "kernelspec": {
   "display_name": "Python 3 (ipykernel)",
   "language": "python",
   "name": "python3"
  },
  "language_info": {
   "codemirror_mode": {
    "name": "ipython",
    "version": 3
   },
   "file_extension": ".py",
   "mimetype": "text/x-python",
   "name": "python",
   "nbconvert_exporter": "python",
   "pygments_lexer": "ipython3",
   "version": "3.10.12"
  }
 },
 "nbformat": 4,
 "nbformat_minor": 5
}
