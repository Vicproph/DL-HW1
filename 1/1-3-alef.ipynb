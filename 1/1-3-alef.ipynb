{
 "cells": [
  {
   "cell_type": "code",
   "execution_count": 153,
   "metadata": {},
   "outputs": [
    {
     "name": "stdout",
     "output_type": "stream",
     "text": [
      "cuda\n"
     ]
    },
    {
     "data": {
      "text/plain": [
       "OrderedDict([('first_layer.weight',\n",
       "              tensor([[-0.3025, -0.0897,  0.3098, -0.0513, -0.1707, -0.1184,  0.0990],\n",
       "                      [-0.3191, -0.2148, -0.2347,  0.1795, -0.3085, -0.1558, -0.1560]],\n",
       "                     device='cuda:0')),\n",
       "             ('first_layer.bias', tensor([-0.1609,  0.2522], device='cuda:0')),\n",
       "             ('second_layer.weight',\n",
       "              tensor([[ 0.0281, -0.6448],\n",
       "                      [ 0.2680, -0.2664],\n",
       "                      [-0.5495, -0.1065],\n",
       "                      [ 0.0486, -0.6906]], device='cuda:0')),\n",
       "             ('second_layer.bias',\n",
       "              tensor([0.2220, 0.5103, 0.1454, 0.3744], device='cuda:0'))])"
      ]
     },
     "execution_count": 153,
     "metadata": {},
     "output_type": "execute_result"
    }
   ],
   "source": [
    "import torch\n",
    "import torch.nn as nn\n",
    "import numpy as np\n",
    "\n",
    "device = \"cuda\" if torch.cuda.is_available() else \"cpu\"\n",
    "\n",
    "torch.set_default_device(device)\n",
    "torch.set_printoptions(sci_mode=False)\n",
    "print(device)\n",
    "\n",
    "\n",
    "class TwoLayerNeuralNetwork(nn.Module):\n",
    "    def __init__(self) -> None:\n",
    "        super().__init__()\n",
    "        self.first_layer = nn.Linear(in_features=7, out_features=2, dtype=torch.float)\n",
    "\n",
    "        self.second_layer = nn.Linear(in_features=2, out_features=4, dtype=torch.float)\n",
    "        self.sigmoid = nn.Tanh()\n",
    "\n",
    "    def forward(self, x: torch.Tensor):\n",
    "        out = self.sigmoid(self.first_layer(x))\n",
    "        out = self.sigmoid(self.second_layer(out))\n",
    "        return out\n",
    "\n",
    "\n",
    "model = TwoLayerNeuralNetwork()\n",
    "model.state_dict()"
   ]
  },
  {
   "cell_type": "code",
   "execution_count": 154,
   "metadata": {},
   "outputs": [
    {
     "name": "stdout",
     "output_type": "stream",
     "text": [
      "Epoch: 0| loss: 1.637026309967041\n"
     ]
    },
    {
     "name": "stdout",
     "output_type": "stream",
     "text": [
      "Epoch: 500| loss: 0.0004607658484019339\n",
      "Epoch: 1000| loss: 0.00010735228715930134\n",
      "Epoch: 1500| loss: 4.973559043719433e-05\n",
      "Epoch: 2000| loss: 2.8505539376055822e-05\n",
      "Epoch: 2500| loss: 1.812677874113433e-05\n",
      "Epoch: 3000| loss: 1.2237588634889107e-05\n",
      "Epoch: 3500| loss: 8.579009772802237e-06\n",
      "Epoch: 4000| loss: 6.1675996221310925e-06\n",
      "Epoch: 4500| loss: 4.512412033363944e-06\n"
     ]
    }
   ],
   "source": [
    "X = torch.tensor(\n",
    "    [\n",
    "        [1, -1, 1, 1, 1, 1, 1],\n",
    "        [1, 1, 1, -1, -1, -1, -1],\n",
    "        [1, 1, 1, 1, 1, 1, 1],\n",
    "        [1, 1, 1, 1, -1, 1, 1],\n",
    "    ],\n",
    "    dtype=torch.float,\n",
    "    requires_grad=True,\n",
    ")\n",
    "y = torch.tensor(\n",
    "    [\n",
    "        [1, -1, -1, -1],\n",
    "        [-1, 1, -1, -1],\n",
    "        [-1, -1, 1, -1],\n",
    "        [-1, -1, -1, 1],\n",
    "    ],\n",
    "    dtype=torch.float,\n",
    "    requires_grad=True,\n",
    ")\n",
    "epochs = 5000\n",
    "alpha = 0.18\n",
    "loss_function = nn.MSELoss()\n",
    "optimizer = torch.optim.Adam(model.parameters(), alpha)\n",
    "\n",
    "for epoch in range(epochs):\n",
    "    model.train()\n",
    "    y_pred = model(X)\n",
    "\n",
    "    loss = loss_function(y_pred, y)\n",
    "\n",
    "    optimizer.zero_grad()\n",
    "\n",
    "    loss.backward()\n",
    "\n",
    "    optimizer.step()\n",
    "    if epoch % (epochs / 10) == 0:\n",
    "        print(f\"Epoch: {epoch}| loss: {loss}\")"
   ]
  },
  {
   "cell_type": "code",
   "execution_count": 155,
   "metadata": {},
   "outputs": [
    {
     "name": "stdout",
     "output_type": "stream",
     "text": [
      "tensor([[ 0.9977, -0.9981, -0.9989, -1.0000],\n",
      "        [-1.0000,  0.9989, -1.0000, -0.9973],\n",
      "        [-0.9974, -1.0000,  0.9979, -0.9977],\n",
      "        [-1.0000, -0.9984, -0.9974,  0.9970]], device='cuda:0',\n",
      "       grad_fn=<TanhBackward0>)\n",
      "OrderedDict([('first_layer.weight', tensor([[ 0.3147, -1.2990,  0.9270, -0.6780, -1.3450, -0.7451, -0.5276],\n",
      "        [ 0.9197,  2.0293,  1.0040, -0.8299, -2.5179, -1.1651, -1.1653]],\n",
      "       device='cuda:0')), ('first_layer.bias', tensor([0.4563, 1.4910], device='cuda:0')), ('second_layer.weight', tensor([[ 2.1283, -6.7577],\n",
      "        [ 6.0719, -0.3066],\n",
      "        [-9.5249,  0.6328],\n",
      "        [-5.4550,  8.8971]], device='cuda:0')), ('second_layer.bias', tensor([-2.7595, -2.0265, -5.9002, -6.7501], device='cuda:0'))])\n"
     ]
    }
   ],
   "source": [
    "print(model(X))\n",
    "print(model.state_dict())"
   ]
  }
 ],
 "metadata": {
  "kernelspec": {
   "display_name": "Python 3",
   "language": "python",
   "name": "python3"
  },
  "language_info": {
   "codemirror_mode": {
    "name": "ipython",
    "version": 3
   },
   "file_extension": ".py",
   "mimetype": "text/x-python",
   "name": "python",
   "nbconvert_exporter": "python",
   "pygments_lexer": "ipython3",
   "version": "3.10.12"
  }
 },
 "nbformat": 4,
 "nbformat_minor": 2
}
